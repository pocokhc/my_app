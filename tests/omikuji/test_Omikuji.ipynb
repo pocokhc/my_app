{
 "cells": [
  {
   "cell_type": "code",
   "execution_count": 1,
   "metadata": {},
   "outputs": [],
   "source": [
    "# import自動更新\n",
    "%load_ext autoreload\n",
    "%autoreload 2"
   ]
  },
  {
   "cell_type": "code",
   "execution_count": 2,
   "metadata": {},
   "outputs": [
    {
     "name": "stdout",
     "output_type": "stream",
     "text": [
      "e:\\data\\GitHub2\\my_calc\\src\n"
     ]
    }
   ],
   "source": [
    "import os\n",
    "import sys\n",
    "pwd = %pwd\n",
    "path = os.path.abspath(os.path.join(pwd, \"../../src/\"))\n",
    "print(path)\n",
    "sys.path.append(path)\n",
    "\n",
    "# logger\n",
    "import logging\n",
    "from common import utils\n",
    "utils.set_logger()\n",
    "\n",
    "# setting\n",
    "from setting.Setting import Setting\n",
    "setting = Setting(\"test\")\n"
   ]
  },
  {
   "cell_type": "markdown",
   "metadata": {},
   "source": [
    "# テスト検証用コード"
   ]
  },
  {
   "cell_type": "code",
   "execution_count": 3,
   "metadata": {},
   "outputs": [],
   "source": [
    "from omikuji.Omikuji import Omikuji\n"
   ]
  },
  {
   "cell_type": "code",
   "execution_count": 4,
   "metadata": {},
   "outputs": [
    {
     "name": "stderr",
     "output_type": "stream",
     "text": [
      "2021-12-06 08:34:27,807 omikuji.Omikuji __init__ 57 [DEBUG] [0.05, 0.2, 0.5, 0.2, 0.05]\n",
      "2021-12-06 08:34:27,808 omikuji.Omikuji __init__ 58 [DEBUG] ['大吉', '中吉', '吉', '凶', '大凶']\n",
      "2021-12-06 08:34:27,809 omikuji.Omikuji getOmikuji 65 [DEBUG] omikuji: 1 中吉\n"
     ]
    },
    {
     "name": "stdout",
     "output_type": "stream",
     "text": [
      "[0.05, 0.2, 0.5, 0.2, 0.05]\n",
      "1\n",
      "中吉\n"
     ]
    }
   ],
   "source": [
    "omikuji = Omikuji(setting, \"blue\")\n",
    "print(omikuji.probs)\n",
    "idx, result = omikuji.getOmikuji()\n",
    "print(idx)\n",
    "print(result)\n"
   ]
  },
  {
   "cell_type": "code",
   "execution_count": 5,
   "metadata": {},
   "outputs": [],
   "source": [
    "utils.set_logger(level=logging.ERROR)\n",
    "\n",
    "# 実際に実行してみて確率が許容範囲内に収まるか見る\n",
    "\n",
    "counter = [0 for _ in range(len(omikuji.probs))]\n",
    "N = 10000\n",
    "for _ in range(N):\n",
    "    idx, _ = omikuji.getOmikuji()\n",
    "    counter[idx] += 1\n",
    "counter = [x/N for x in counter]\n",
    "weights = [w/sum(omikuji.probs) for w in omikuji.probs]\n",
    "\n",
    "for k in range(len(weights)):\n",
    "    r2 = abs(weights[k] - counter[k])\n",
    "    assert r2 < 0.05, \"{} weight:{} counter:{}\".format(k, weights, counter)\n"
   ]
  },
  {
   "cell_type": "code",
   "execution_count": null,
   "metadata": {},
   "outputs": [],
   "source": []
  }
 ],
 "metadata": {
  "interpreter": {
   "hash": "61ae752af1a6ecc823d06067d6d6536ebba797eb35f8ca3d24cb13c92a9d5118"
  },
  "kernelspec": {
   "display_name": "Python 3.9.2 64-bit ('test_py39': venv)",
   "name": "python3"
  },
  "language_info": {
   "codemirror_mode": {
    "name": "ipython",
    "version": 3
   },
   "file_extension": ".py",
   "mimetype": "text/x-python",
   "name": "python",
   "nbconvert_exporter": "python",
   "pygments_lexer": "ipython3",
   "version": "3.9.2"
  },
  "orig_nbformat": 4
 },
 "nbformat": 4,
 "nbformat_minor": 2
}
