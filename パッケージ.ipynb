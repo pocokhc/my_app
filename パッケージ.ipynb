{
 "cells": [
  {
   "cell_type": "markdown",
   "metadata": {},
   "source": [
    "# pip update"
   ]
  },
  {
   "cell_type": "code",
   "execution_count": 1,
   "metadata": {},
   "outputs": [
    {
     "name": "stdout",
     "output_type": "stream",
     "text": [
      "Requirement already satisfied: pip in c:\\users\\poco\\venv\\test_py39\\lib\\site-packages (21.3.1)\n",
      "Requirement already satisfied: setuptools in c:\\users\\poco\\venv\\test_py39\\lib\\site-packages (59.4.0)\n",
      "Collecting setuptools\n",
      "  Downloading setuptools-59.5.0-py3-none-any.whl (952 kB)\n",
      "Installing collected packages: setuptools\n",
      "  Attempting uninstall: setuptools\n",
      "    Found existing installation: setuptools 59.4.0\n",
      "    Uninstalling setuptools-59.4.0:\n",
      "      Successfully uninstalled setuptools-59.4.0\n",
      "Successfully installed setuptools-59.5.0\n"
     ]
    }
   ],
   "source": [
    "!pip install --upgrade pip\n",
    "!pip install --upgrade setuptools\n"
   ]
  },
  {
   "cell_type": "markdown",
   "metadata": {},
   "source": [
    "# pip install"
   ]
  },
  {
   "cell_type": "code",
   "execution_count": 2,
   "metadata": {},
   "outputs": [
    {
     "name": "stdout",
     "output_type": "stream",
     "text": [
      "Requirement already satisfied: numpy in c:\\users\\poco\\venv\\test_py39\\lib\\site-packages (1.21.3)\n",
      "Requirement already satisfied: pyaml in c:\\users\\poco\\venv\\test_py39\\lib\\site-packages (21.10.1)\n",
      "Requirement already satisfied: PyYAML in c:\\users\\poco\\venv\\test_py39\\lib\\site-packages (from pyaml) (6.0)\n",
      "Requirement already satisfied: flask in c:\\users\\poco\\venv\\test_py39\\lib\\site-packages (2.0.2)\n",
      "Requirement already satisfied: itsdangerous>=2.0 in c:\\users\\poco\\venv\\test_py39\\lib\\site-packages (from flask) (2.0.1)\n",
      "Requirement already satisfied: Jinja2>=3.0 in c:\\users\\poco\\venv\\test_py39\\lib\\site-packages (from flask) (3.0.2)\n",
      "Requirement already satisfied: click>=7.1.2 in c:\\users\\poco\\venv\\test_py39\\lib\\site-packages (from flask) (8.0.3)\n",
      "Requirement already satisfied: Werkzeug>=2.0 in c:\\users\\poco\\venv\\test_py39\\lib\\site-packages (from flask) (2.0.2)\n",
      "Requirement already satisfied: colorama in c:\\users\\poco\\venv\\test_py39\\lib\\site-packages (from click>=7.1.2->flask) (0.4.4)\n",
      "Requirement already satisfied: MarkupSafe>=2.0 in c:\\users\\poco\\venv\\test_py39\\lib\\site-packages (from Jinja2>=3.0->flask) (2.0.1)\n"
     ]
    }
   ],
   "source": [
    "!pip install numpy\n",
    "\n",
    "# setting\n",
    "!pip install pyaml\n",
    "\n",
    "# flask\n",
    "!pip install flask\n",
    "\n",
    "# test\n",
    "!pip install pytest\n"
   ]
  },
  {
   "cell_type": "markdown",
   "metadata": {},
   "source": [
    "# pip list"
   ]
  },
  {
   "cell_type": "code",
   "execution_count": 3,
   "metadata": {},
   "outputs": [
    {
     "name": "stdout",
     "output_type": "stream",
     "text": [
      "Package           Version\n",
      "----------------- ----------\n",
      "atomicwrites      1.4.0\n",
      "attrs             21.2.0\n",
      "backcall          0.2.0\n",
      "black             21.9b0\n",
      "click             8.0.3\n",
      "colorama          0.4.4\n",
      "debugpy           1.5.1\n",
      "decorator         5.1.0\n",
      "entrypoints       0.3\n",
      "flake8            4.0.1\n",
      "Flask             2.0.2\n",
      "iniconfig         1.1.1\n",
      "ipykernel         6.4.2\n",
      "ipython           7.28.0\n",
      "ipython-genutils  0.2.0\n",
      "itsdangerous      2.0.1\n",
      "jedi              0.18.0\n",
      "Jinja2            3.0.2\n",
      "jupyter-client    7.0.6\n",
      "jupyter-core      4.9.0\n",
      "MarkupSafe        2.0.1\n",
      "matplotlib-inline 0.1.3\n",
      "mccabe            0.6.1\n",
      "mypy-extensions   0.4.3\n",
      "nest-asyncio      1.5.1\n",
      "numpy             1.21.3\n",
      "packaging         21.3\n",
      "parso             0.8.2\n",
      "pathspec          0.9.0\n",
      "pickleshare       0.7.5\n",
      "pip               21.3.1\n",
      "platformdirs      2.4.0\n",
      "pluggy            1.0.0\n",
      "prompt-toolkit    3.0.21\n",
      "py                1.11.0\n",
      "pyaml             21.10.1\n",
      "pycodestyle       2.8.0\n",
      "pyflakes          2.4.0\n",
      "Pygments          2.10.0\n",
      "pyparsing         3.0.6\n",
      "pytest            6.2.5\n",
      "python-dateutil   2.8.2\n",
      "pywin32           302\n",
      "PyYAML            6.0\n",
      "pyzmq             22.3.0\n",
      "regex             2021.10.23\n",
      "setuptools        59.5.0\n",
      "six               1.16.0\n",
      "toml              0.10.2\n",
      "tomli             1.2.2\n",
      "tornado           6.1\n",
      "traitlets         5.1.1\n",
      "typing-extensions 3.10.0.2\n",
      "wcwidth           0.2.5\n",
      "Werkzeug          2.0.2\n"
     ]
    }
   ],
   "source": [
    "!pip list"
   ]
  }
 ],
 "metadata": {
  "interpreter": {
   "hash": "61ae752af1a6ecc823d06067d6d6536ebba797eb35f8ca3d24cb13c92a9d5118"
  },
  "kernelspec": {
   "display_name": "Python 3.9.2 64-bit ('test_py39': venv)",
   "name": "python3"
  },
  "language_info": {
   "codemirror_mode": {
    "name": "ipython",
    "version": 3
   },
   "file_extension": ".py",
   "mimetype": "text/x-python",
   "name": "python",
   "nbconvert_exporter": "python",
   "pygments_lexer": "ipython3",
   "version": "3.9.2"
  },
  "orig_nbformat": 4
 },
 "nbformat": 4,
 "nbformat_minor": 2
}
